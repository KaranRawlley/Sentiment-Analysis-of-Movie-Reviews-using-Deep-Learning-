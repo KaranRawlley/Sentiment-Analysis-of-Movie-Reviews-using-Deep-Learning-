{
 "cells": [
  {
   "cell_type": "code",
   "execution_count": 1,
   "metadata": {},
   "outputs": [
    {
     "name": "stderr",
     "output_type": "stream",
     "text": [
      "Using TensorFlow backend.\n",
      "C:\\Users\\rawll\\.conda\\envs\\tensorflow\\lib\\site-packages\\tensorflow\\python\\framework\\dtypes.py:516: FutureWarning: Passing (type, 1) or '1type' as a synonym of type is deprecated; in a future version of numpy, it will be understood as (type, (1,)) / '(1,)type'.\n",
      "  _np_qint8 = np.dtype([(\"qint8\", np.int8, 1)])\n",
      "C:\\Users\\rawll\\.conda\\envs\\tensorflow\\lib\\site-packages\\tensorflow\\python\\framework\\dtypes.py:517: FutureWarning: Passing (type, 1) or '1type' as a synonym of type is deprecated; in a future version of numpy, it will be understood as (type, (1,)) / '(1,)type'.\n",
      "  _np_quint8 = np.dtype([(\"quint8\", np.uint8, 1)])\n",
      "C:\\Users\\rawll\\.conda\\envs\\tensorflow\\lib\\site-packages\\tensorflow\\python\\framework\\dtypes.py:518: FutureWarning: Passing (type, 1) or '1type' as a synonym of type is deprecated; in a future version of numpy, it will be understood as (type, (1,)) / '(1,)type'.\n",
      "  _np_qint16 = np.dtype([(\"qint16\", np.int16, 1)])\n",
      "C:\\Users\\rawll\\.conda\\envs\\tensorflow\\lib\\site-packages\\tensorflow\\python\\framework\\dtypes.py:519: FutureWarning: Passing (type, 1) or '1type' as a synonym of type is deprecated; in a future version of numpy, it will be understood as (type, (1,)) / '(1,)type'.\n",
      "  _np_quint16 = np.dtype([(\"quint16\", np.uint16, 1)])\n",
      "C:\\Users\\rawll\\.conda\\envs\\tensorflow\\lib\\site-packages\\tensorflow\\python\\framework\\dtypes.py:520: FutureWarning: Passing (type, 1) or '1type' as a synonym of type is deprecated; in a future version of numpy, it will be understood as (type, (1,)) / '(1,)type'.\n",
      "  _np_qint32 = np.dtype([(\"qint32\", np.int32, 1)])\n",
      "C:\\Users\\rawll\\.conda\\envs\\tensorflow\\lib\\site-packages\\tensorflow\\python\\framework\\dtypes.py:525: FutureWarning: Passing (type, 1) or '1type' as a synonym of type is deprecated; in a future version of numpy, it will be understood as (type, (1,)) / '(1,)type'.\n",
      "  np_resource = np.dtype([(\"resource\", np.ubyte, 1)])\n",
      "C:\\Users\\rawll\\.conda\\envs\\tensorflow\\lib\\site-packages\\tensorboard\\compat\\tensorflow_stub\\dtypes.py:541: FutureWarning: Passing (type, 1) or '1type' as a synonym of type is deprecated; in a future version of numpy, it will be understood as (type, (1,)) / '(1,)type'.\n",
      "  _np_qint8 = np.dtype([(\"qint8\", np.int8, 1)])\n",
      "C:\\Users\\rawll\\.conda\\envs\\tensorflow\\lib\\site-packages\\tensorboard\\compat\\tensorflow_stub\\dtypes.py:542: FutureWarning: Passing (type, 1) or '1type' as a synonym of type is deprecated; in a future version of numpy, it will be understood as (type, (1,)) / '(1,)type'.\n",
      "  _np_quint8 = np.dtype([(\"quint8\", np.uint8, 1)])\n",
      "C:\\Users\\rawll\\.conda\\envs\\tensorflow\\lib\\site-packages\\tensorboard\\compat\\tensorflow_stub\\dtypes.py:543: FutureWarning: Passing (type, 1) or '1type' as a synonym of type is deprecated; in a future version of numpy, it will be understood as (type, (1,)) / '(1,)type'.\n",
      "  _np_qint16 = np.dtype([(\"qint16\", np.int16, 1)])\n",
      "C:\\Users\\rawll\\.conda\\envs\\tensorflow\\lib\\site-packages\\tensorboard\\compat\\tensorflow_stub\\dtypes.py:544: FutureWarning: Passing (type, 1) or '1type' as a synonym of type is deprecated; in a future version of numpy, it will be understood as (type, (1,)) / '(1,)type'.\n",
      "  _np_quint16 = np.dtype([(\"quint16\", np.uint16, 1)])\n",
      "C:\\Users\\rawll\\.conda\\envs\\tensorflow\\lib\\site-packages\\tensorboard\\compat\\tensorflow_stub\\dtypes.py:545: FutureWarning: Passing (type, 1) or '1type' as a synonym of type is deprecated; in a future version of numpy, it will be understood as (type, (1,)) / '(1,)type'.\n",
      "  _np_qint32 = np.dtype([(\"qint32\", np.int32, 1)])\n",
      "C:\\Users\\rawll\\.conda\\envs\\tensorflow\\lib\\site-packages\\tensorboard\\compat\\tensorflow_stub\\dtypes.py:550: FutureWarning: Passing (type, 1) or '1type' as a synonym of type is deprecated; in a future version of numpy, it will be understood as (type, (1,)) / '(1,)type'.\n",
      "  np_resource = np.dtype([(\"resource\", np.ubyte, 1)])\n"
     ]
    }
   ],
   "source": [
    "import pandas as pd\n",
    "import numpy as np\n",
    "import re\n",
    "import nltk\n",
    "from nltk.corpus import stopwords \n",
    "from numpy import array \n",
    "from keras.preprocessing.text import one_hot\n",
    "from keras.preprocessing.sequence import pad_sequences\n",
    "from keras.models import Sequential\n",
    "from keras.layers.core import Activation, Dropout, Dense\n",
    "from keras.layers import Flatten,merge\n",
    "from keras.layers import GlobalMaxPooling1D\n",
    "from keras.layers.embeddings import Embedding\n",
    "from sklearn.model_selection import train_test_split\n",
    "from keras.preprocessing.text import Tokenizer\n",
    "from keras.layers import LSTM\n",
    "from keras.layers import Input,RepeatVector,Permute,Multiply,Lambda,Bidirectional\n",
    "from keras import backend as K\n",
    "from keras.models import Model\n",
    "from keras.callbacks import ModelCheckpoint"
   ]
  },
  {
   "cell_type": "code",
   "execution_count": 2,
   "metadata": {},
   "outputs": [
    {
     "data": {
      "text/html": [
       "<div>\n",
       "<style scoped>\n",
       "    .dataframe tbody tr th:only-of-type {\n",
       "        vertical-align: middle;\n",
       "    }\n",
       "\n",
       "    .dataframe tbody tr th {\n",
       "        vertical-align: top;\n",
       "    }\n",
       "\n",
       "    .dataframe thead th {\n",
       "        text-align: right;\n",
       "    }\n",
       "</style>\n",
       "<table border=\"1\" class=\"dataframe\">\n",
       "  <thead>\n",
       "    <tr style=\"text-align: right;\">\n",
       "      <th></th>\n",
       "      <th>reviews</th>\n",
       "      <th>sentiment</th>\n",
       "    </tr>\n",
       "  </thead>\n",
       "  <tbody>\n",
       "    <tr>\n",
       "      <td>0</td>\n",
       "      <td>Well, you'd better if you plan on sitting thro...</td>\n",
       "      <td>0</td>\n",
       "    </tr>\n",
       "    <tr>\n",
       "      <td>1</td>\n",
       "      <td>Moonwalker is a Fantasy Music film staring Mic...</td>\n",
       "      <td>1</td>\n",
       "    </tr>\n",
       "    <tr>\n",
       "      <td>2</td>\n",
       "      <td>I bought this video on a throw-out table at th...</td>\n",
       "      <td>0</td>\n",
       "    </tr>\n",
       "    <tr>\n",
       "      <td>3</td>\n",
       "      <td>Since the last horrid Astérix film and the fac...</td>\n",
       "      <td>1</td>\n",
       "    </tr>\n",
       "    <tr>\n",
       "      <td>4</td>\n",
       "      <td>I grew up with the Abbott and Costello movies,...</td>\n",
       "      <td>1</td>\n",
       "    </tr>\n",
       "  </tbody>\n",
       "</table>\n",
       "</div>"
      ],
      "text/plain": [
       "                                             reviews  sentiment\n",
       "0  Well, you'd better if you plan on sitting thro...          0\n",
       "1  Moonwalker is a Fantasy Music film staring Mic...          1\n",
       "2  I bought this video on a throw-out table at th...          0\n",
       "3  Since the last horrid Astérix film and the fac...          1\n",
       "4  I grew up with the Abbott and Costello movies,...          1"
      ]
     },
     "execution_count": 2,
     "metadata": {},
     "output_type": "execute_result"
    }
   ],
   "source": [
    "df = pd.read_csv('reviews.csv')\n",
    "df.isnull().values.any() # checks if data file have any null values\n",
    "df.head()"
   ]
  },
  {
   "cell_type": "code",
   "execution_count": 3,
   "metadata": {},
   "outputs": [],
   "source": [
    "def preprocess(text):\n",
    "  text = re.sub('<[^>]*>', '', text)\n",
    "  emoticons = re.findall('(?::|;|=)(?:-)?(?:\\)|\\(|D|P)', text.lower())\n",
    "  text = re.sub('[\\W]+', ' ', text.lower()) +\\\n",
    "      ' '.join(emoticons).replace('-', '')\n",
    "  return text"
   ]
  },
  {
   "cell_type": "code",
   "execution_count": 4,
   "metadata": {},
   "outputs": [],
   "source": [
    "X = []\n",
    "sentences = list(df['reviews'])\n",
    "for sen in sentences:\n",
    "    X.append(preprocess(sen))\n",
    "y = df['sentiment']"
   ]
  },
  {
   "cell_type": "code",
   "execution_count": 5,
   "metadata": {},
   "outputs": [],
   "source": [
    "X_train, X_test, y_train, y_test = train_test_split(X, y, test_size=0.20, random_state=42)"
   ]
  },
  {
   "cell_type": "code",
   "execution_count": 6,
   "metadata": {},
   "outputs": [
    {
     "name": "stdout",
     "output_type": "stream",
     "text": [
      "[85, 21, 261, 30, 4, 1, 1573, 826, 10, 15, 4822, 424, 7, 6, 90, 424, 1, 586, 6, 1337, 2, 424, 1, 114, 6, 1420, 2221, 192, 10, 6, 3, 468, 4, 34, 412, 1254, 492, 2, 45, 11, 6, 125, 148, 91, 1800, 93, 20, 79, 365, 10, 28, 39, 25, 191, 49, 1427, 5, 10, 15, 5, 52, 73, 16, 1, 16, 28, 1, 563, 33, 3, 93, 1806, 1453, 186, 6, 53, 951, 2, 2417, 1, 564, 922, 1, 273, 6, 3, 997, 37, 1, 713, 4561, 4, 89, 98, 2, 236, 18, 23, 222, 1, 925, 6, 47, 90, 1, 19, 16, 68, 1, 1193, 4, 10, 19, 96, 27, 221, 3, 72, 127, 297, 4900, 1, 271, 5, 94, 7, 52, 818, 14, 3, 1095, 192, 45, 20, 50, 10, 2964, 1, 925, 6, 81, 632, 30, 616, 8, 3, 646, 2638, 1338, 41, 1035, 5, 29, 3047, 177, 7, 4, 3857, 51, 149, 1683, 125, 1574, 5, 77, 48, 4, 1, 159, 2, 20, 203, 365, 10, 19, 14, 72, 14, 9, 119]\n",
      "180\n",
      "244\n"
     ]
    }
   ],
   "source": [
    "tokenizer = Tokenizer(num_words=5000)\n",
    "tokenizer.fit_on_texts(X_train)\n",
    "\n",
    "X_train = tokenizer.texts_to_sequences(X_train)\n",
    "X_test = tokenizer.texts_to_sequences(X_test)\n",
    "print(X_train[0])\n",
    "print(len(X_train[0]))\n",
    "print(len(X_test[0]))"
   ]
  },
  {
   "cell_type": "code",
   "execution_count": 7,
   "metadata": {},
   "outputs": [],
   "source": [
    "# padding process \n",
    "vocab_size = len(tokenizer.word_index) + 1\n",
    "\n",
    "maxlen = 100\n",
    "\n",
    "X_train = pad_sequences(X_train, padding='post', maxlen=maxlen)\n",
    "X_test = pad_sequences(X_test, padding='post', maxlen=maxlen)"
   ]
  },
  {
   "cell_type": "code",
   "execution_count": 8,
   "metadata": {},
   "outputs": [],
   "source": [
    "from numpy import array\n",
    "from numpy import asarray\n",
    "from numpy import zeros\n",
    "\n",
    "embeddings_dictionary = dict()\n",
    "glove_file = open('glove.6B.300d.txt', encoding=\"utf8\")\n",
    "\n",
    "for line in glove_file:\n",
    "    records = line.split()\n",
    "    word = records[0]\n",
    "    vector_dimensions = asarray(records[1:], dtype='float32')\n",
    "    embeddings_dictionary [word] = vector_dimensions\n",
    "glove_file.close()"
   ]
  },
  {
   "cell_type": "code",
   "execution_count": 9,
   "metadata": {},
   "outputs": [],
   "source": [
    "embedding_matrix = zeros((vocab_size, 300))\n",
    "for word, index in tokenizer.word_index.items():\n",
    "    embedding_vector = embeddings_dictionary.get(word)\n",
    "    if embedding_vector is not None:\n",
    "        embedding_matrix[index] = embedding_vector"
   ]
  },
  {
   "cell_type": "code",
   "execution_count": 10,
   "metadata": {},
   "outputs": [
    {
     "data": {
      "text/plain": [
       "(94562, 300)"
      ]
     },
     "execution_count": 10,
     "metadata": {},
     "output_type": "execute_result"
    }
   ],
   "source": [
    "embedding_matrix.shape"
   ]
  },
  {
   "cell_type": "code",
   "execution_count": 11,
   "metadata": {},
   "outputs": [
    {
     "name": "stdout",
     "output_type": "stream",
     "text": [
      "WARNING:tensorflow:From C:\\Users\\rawll\\.conda\\envs\\tensorflow\\lib\\site-packages\\tensorflow\\python\\ops\\nn_impl.py:180: add_dispatch_support.<locals>.wrapper (from tensorflow.python.ops.array_ops) is deprecated and will be removed in a future version.\n",
      "Instructions for updating:\n",
      "Use tf.where in 2.0, which has the same broadcast rule as np.where\n"
     ]
    }
   ],
   "source": [
    "units=200\n",
    "vocab_size = embedding_matrix.shape[0]\n",
    "embedding_size = embedding_matrix.shape[1]\n",
    "\n",
    "\n",
    "_input = Input(shape=[maxlen], dtype='int32')\n",
    "\n",
    "# get the embedding layer\n",
    "embedded = Embedding(\n",
    "        input_dim=vocab_size,\n",
    "        output_dim=embedding_size,\n",
    "        input_length=maxlen,\n",
    "        trainable=False,\n",
    "        mask_zero=False,\n",
    "        weights=[embedding_matrix]\n",
    "    )(_input)\n",
    "\n",
    "activations = LSTM(units, return_sequences=True)(embedded)\n",
    "activations = Dropout(0.3)(activations)\n",
    "\n",
    "# compute importance for each step\n",
    "attention = Dense(1, activation='tanh')(activations) \n",
    "attention = Flatten()(attention)\n",
    "attention = Activation('softmax')(attention)\n",
    "attention = RepeatVector(units)(attention)\n",
    "attention = Permute([2, 1])(attention)\n",
    "\n",
    "# apply the attention\n",
    "sent_representation = Multiply()([activations, attention])\n",
    "sent_representation = Lambda(lambda xin: K.sum(xin, axis=-2), output_shape=(units,))(sent_representation)\n",
    "sent_representation = Dropout(0.4)(sent_representation)\n",
    "\n",
    "probabilities = Dense(1, activation='sigmoid')(sent_representation)\n",
    "\n",
    "model = Model(_input,probabilities)\n",
    "checkpoint = ModelCheckpoint(filepath=\"weights-improvement-{epoch:02d}-{val_accuracy:.2f}.hdf5\", verbose=1, monitor='val_loss',save_best_only=True, mode='auto')\n",
    "callbacks_list = [checkpoint]\n",
    "model.compile(optimizer='adam', loss='binary_crossentropy', metrics=['accuracy'])"
   ]
  },
  {
   "cell_type": "code",
   "execution_count": 12,
   "metadata": {},
   "outputs": [
    {
     "name": "stdout",
     "output_type": "stream",
     "text": [
      "WARNING:tensorflow:From C:\\Users\\rawll\\.conda\\envs\\tensorflow\\lib\\site-packages\\keras\\backend\\tensorflow_backend.py:422: The name tf.global_variables is deprecated. Please use tf.compat.v1.global_variables instead.\n",
      "\n",
      "Train on 40000 samples, validate on 10000 samples\n",
      "Epoch 1/7\n",
      "40000/40000 [==============================] - 62s 2ms/step - loss: 0.4232 - accuracy: 0.7996 - val_loss: 0.3635 - val_accuracy: 0.8347\n",
      "Epoch 2/7\n",
      "40000/40000 [==============================] - 63s 2ms/step - loss: 0.3416 - accuracy: 0.8486 - val_loss: 0.3366 - val_accuracy: 0.8489\n",
      "Epoch 3/7\n",
      "40000/40000 [==============================] - 64s 2ms/step - loss: 0.3060 - accuracy: 0.8679 - val_loss: 0.3294 - val_accuracy: 0.8528\n",
      "Epoch 4/7\n",
      "40000/40000 [==============================] - 65s 2ms/step - loss: 0.2803 - accuracy: 0.8818 - val_loss: 0.3020 - val_accuracy: 0.8702\n",
      "Epoch 5/7\n",
      "40000/40000 [==============================] - 65s 2ms/step - loss: 0.2495 - accuracy: 0.8961 - val_loss: 0.3132 - val_accuracy: 0.8700\n",
      "Epoch 6/7\n",
      "40000/40000 [==============================] - 65s 2ms/step - loss: 0.2193 - accuracy: 0.9098 - val_loss: 0.3123 - val_accuracy: 0.8735\n",
      "Epoch 7/7\n",
      "40000/40000 [==============================] - 66s 2ms/step - loss: 0.1885 - accuracy: 0.9244 - val_loss: 0.3265 - val_accuracy: 0.8678\n"
     ]
    },
    {
     "data": {
      "text/plain": [
       "<keras.callbacks.callbacks.History at 0x1450133b240>"
      ]
     },
     "execution_count": 12,
     "metadata": {},
     "output_type": "execute_result"
    }
   ],
   "source": [
    "model.fit(X_train, y_train, epochs=7, batch_size=64, validation_data = (X_test,y_test))"
   ]
  },
  {
   "cell_type": "code",
   "execution_count": 23,
   "metadata": {},
   "outputs": [
    {
     "name": "stdout",
     "output_type": "stream",
     "text": [
      "What is this garbage? 3 hours of absolutely nothing but awful dialogue and boring misplaced fight scenes. Must be all the brainwashed Marvel fanboys who gave this movie a top rating...\n",
      "0\n",
      "[[0.07975859]]\n"
     ]
    }
   ],
   "source": [
    "instance = \"What is this garbage? 3 hours of absolutely nothing but awful dialogue and boring misplaced fight scenes. Must be all the brainwashed Marvel fanboys who gave this movie a top rating...\"\n",
    "print(instance)\n",
    "instance = tokenizer.texts_to_sequences(instance)\n",
    "\n",
    "flat_list = []\n",
    "for sublist in instance:\n",
    "    for item in sublist:\n",
    "        flat_list.append(item)\n",
    "\n",
    "flat_list = [flat_list]\n",
    "\n",
    "instance = pad_sequences(flat_list, padding='post', maxlen=maxlen)\n",
    "print(0)\n",
    "prediction = model.predict(instance)\n",
    "print(prediction)"
   ]
  },
  {
   "cell_type": "code",
   "execution_count": 22,
   "metadata": {},
   "outputs": [
    {
     "name": "stdout",
     "output_type": "stream",
     "text": [
      "moonwalker is a fantasy music film staring michael jackson with different segments i will rate each segment individually segment 1 opens the film with a music video the music video is a concert of michael jackson performing the song man in the mirror the music video also show s montages of historical figures such as gandhi martin luther king jr john lennon and more the first segment was a good choice to open the film i liked the song and also loved the montage of the historical figures i even loved the message in the song i give the first segment a 9 10 segment 2 shows a montage of michael jackson s start from the jackson five to his solo career the montage i thought was well made i liked the animation they put into it and i also loved their choices of songs such as i i want you back beat it thriller can you feel it and the way you make me feel the only thing i wish they could have done a little a better in one of the songs in the montage is we are the world the reason why is all you see is rain drops and in those drops are images of michael jackson and the chorus of the celebrities but it s a little hard to see the chorus other than that the segment is still good i give it a 9 10segment 3 is the song bad you re probably thinking it s michael jackson s music video of bad well yes and no this segment is the music video but it s redone by kids the segment was cute but it wasn t as good as the other segments i give it a 6 10segment 4 is a short claymation music film that takes place after the kid s version of bad called speed demon the short is about michael jackson being chased by his beloved fans and the press and he disguises himself as a rabbit and rides a motorcycle to try to get away from them the claymation in the chase sequence was great but some parts in the film the claymation characters looked a little fake when they interact with real people also at the end of the clip out of nowhere michael jackson rabbit costume comes to life and he s dancing with it i liked the dancing but that was like out of nowhere i give it a 8 10segment 5 is michael jackson s grammy winning music video leave me alone the music video is about the media poking their nose at michael jackson s personal life and michael jackson feels they won t leave him alone no matter how much he s proved innocent the music video really speaks out but keep in mind this happened before the child molestation this just all about the rumors of him in the 80 s but i didn t feel this video should be in this movie because it s a kids movie and i don t think kid s will understand what he s singing about i give this music video 8 10segment 6 leads us to the main story of the whole movie called smooth criminal michael jackson plays a gangster who uses his powers of a wishing star as a crime figure to protect children including john lennon s son sean lennon from an evil mobster named mr bigg played by joe pesci the segment i thought really brought out the film especially when he danced and sang the song smooth criminal with a bunch of criminals i also thought the special effects were good the weird thing about the segment is why are kids hanging out with a grown man it never explained why also joe pesci character talks about drugs and what he plans to do with them i mean why would you talk about drugs in a kids film other wise it was good my rating for this segment is a 8 10segment 7 is the final segment of the whole movie the film end s with michael jackson singing a cover version of the beatle s song come together and then during the credit s we see michael jackson singing with ladysmith black mambazo michael did a good cover of come together and i think it was good idea putting including a group of good singer s with a talented musican like him my rating is 9 10this movie is a good michael jackson film i think it really brings out children s imagination the film is almost as imaginative as the beatles animated movie yellow submarine if you like michael jackson and you re up to a film with a lot of creativity this is the film my overall rating for this movie is 8 10\n",
      "1\n",
      "[[0.08492092]]\n"
     ]
    }
   ],
   "source": [
    "instance = X[1]\n",
    "print(instance)\n",
    "instance = tokenizer.texts_to_sequences(instance)\n",
    "\n",
    "flat_list = []\n",
    "for sublist in instance:\n",
    "    for item in sublist:\n",
    "        flat_list.append(item)\n",
    "\n",
    "flat_list = [flat_list]\n",
    "\n",
    "instance = pad_sequences(flat_list, padding='post', maxlen=maxlen)\n",
    "print(1)\n",
    "prediction = model.predict(instance)\n",
    "print(prediction)"
   ]
  },
  {
   "cell_type": "code",
   "execution_count": 16,
   "metadata": {},
   "outputs": [
    {
     "data": {
      "text/plain": [
       "1"
      ]
     },
     "execution_count": 16,
     "metadata": {},
     "output_type": "execute_result"
    }
   ],
   "source": [
    "y[1]"
   ]
  },
  {
   "cell_type": "code",
   "execution_count": null,
   "metadata": {},
   "outputs": [],
   "source": []
  }
 ],
 "metadata": {
  "kernelspec": {
   "display_name": "Python [conda env:.conda-tensorflow]",
   "language": "python",
   "name": "conda-env-.conda-tensorflow-py"
  },
  "language_info": {
   "codemirror_mode": {
    "name": "ipython",
    "version": 3
   },
   "file_extension": ".py",
   "mimetype": "text/x-python",
   "name": "python",
   "nbconvert_exporter": "python",
   "pygments_lexer": "ipython3",
   "version": "3.5.6"
  }
 },
 "nbformat": 4,
 "nbformat_minor": 2
}
