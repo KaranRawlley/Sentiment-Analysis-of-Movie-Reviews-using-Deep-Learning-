{
 "cells": [
  {
   "cell_type": "code",
   "execution_count": 1,
   "metadata": {},
   "outputs": [
    {
     "name": "stderr",
     "output_type": "stream",
     "text": [
      "[nltk_data] Downloading package stopwords to\n",
      "[nltk_data]     C:\\Users\\rawll\\AppData\\Roaming\\nltk_data...\n",
      "[nltk_data]   Package stopwords is already up-to-date!\n"
     ]
    },
    {
     "data": {
      "text/plain": [
       "True"
      ]
     },
     "execution_count": 1,
     "metadata": {},
     "output_type": "execute_result"
    }
   ],
   "source": [
    "import pandas as pd\n",
    "import re\n",
    "import nltk\n",
    "import numpy as np\n",
    "import re\n",
    "from nltk.corpus import stopwords \n",
    "nltk.download('stopwords')"
   ]
  },
  {
   "cell_type": "code",
   "execution_count": 3,
   "metadata": {},
   "outputs": [],
   "source": [
    "df = pd.read_csv('../reviews.csv')"
   ]
  },
  {
   "cell_type": "code",
   "execution_count": 4,
   "metadata": {},
   "outputs": [
    {
     "data": {
      "text/plain": [
       "\"Well, you'd better if you plan on sitting through this amateurish, bland, and pokey flick about a middle-aged widowed mom who has a little more in common with her young adult or old teen daughter than she would like. Set in Tunis, mom piddles around the flat, gets antsy, and decides, albeit reluctantly (she just can't help herself), to don the costume and dance in a local cabaret. Meanwhile her daughter is taking dancing lessons. The common denominator is a Tunisian band drummer. This film is so full of filler I watched the DVD at x2 and read the subtitles, fast forwarding through much of the very ordinary dancing and loooong shots of walking (they walk everywhere) and more walking and just plain dawdling at x4 just to get though this boring, uneventful, low budget flick which some how garnered some pretty good critical plaudits. Go figure. (C-)\""
      ]
     },
     "execution_count": 4,
     "metadata": {},
     "output_type": "execute_result"
    }
   ],
   "source": [
    "df.loc[0,'reviews']"
   ]
  },
  {
   "cell_type": "code",
   "execution_count": 5,
   "metadata": {},
   "outputs": [],
   "source": [
    "def tokenizer(text):\n",
    "  text = re.sub('<[^>]*>', '', text)\n",
    "  emoticons = re.findall('(?::|;|=)(?:-)?(?:\\)|\\(|D|P)', text.lower())\n",
    "  text = re.sub('[\\W]+', ' ', text.lower()) +\\\n",
    "      ' '.join(emoticons).replace('-', '')\n",
    "  return text\n",
    "\n",
    "def remStopwords(text):\n",
    "    return [w for w in text.split() if w not in stop]"
   ]
  },
  {
   "cell_type": "code",
   "execution_count": 6,
   "metadata": {},
   "outputs": [],
   "source": [
    "stop = stopwords.words('english')\n",
    "def stream_docs(path):\n",
    "  with open(path, 'r', encoding='utf-8') as csv:\n",
    "      next(csv)  # skip header\n",
    "      for line in csv:\n",
    "          text, label = line[:-3], int(line[-2])\n",
    "          yield text, label\n",
    "            \n",
    "def get_minibatch(doc_stream, size):\n",
    "  docs, y = [], []\n",
    "  try:\n",
    "      for _ in range(size):\n",
    "          text, label = next(doc_stream)\n",
    "          docs.append(text)\n",
    "          y.append(label)\n",
    "  except StopIteration:\n",
    "      return None, None\n",
    "  return docs, y"
   ]
  },
  {
   "cell_type": "code",
   "execution_count": 9,
   "metadata": {},
   "outputs": [
    {
     "data": {
      "text/plain": [
       "<matplotlib.axes._subplots.AxesSubplot at 0x1e8a689b198>"
      ]
     },
     "execution_count": 9,
     "metadata": {},
     "output_type": "execute_result"
    },
    {
     "data": {
      "image/png": "[encoded data removed]",
      "text/plain": [
       "<Figure size 432x288 with 1 Axes>"
      ]
     },
     "metadata": {
      "needs_background": "light"
     },
     "output_type": "display_data"
    }
   ],
   "source": [
    "import seaborn as sns\n",
    "sns.countplot(x='sentiment', data=df)"
   ]
  },
  {
   "cell_type": "code",
   "execution_count": 10,
   "metadata": {},
   "outputs": [],
   "source": [
    "X = []\n",
    "sentences = list(df['reviews'])\n",
    "for sen in sentences:\n",
    "    X.append(tokenizer(sen))"
   ]
  },
  {
   "cell_type": "code",
   "execution_count": 11,
   "metadata": {},
   "outputs": [
    {
     "name": "stdout",
     "output_type": "stream",
     "text": [
      "of all the reviews i ve read most people have been exceedingly hard on alexandre neither marie or veronika ever seemed that they would particularly desperate to keep alexandre he being only slightly intelligent though not at all intellectual as most of us are however hard it may be for anyone to admit alexandre is getting away with life perfectly being totally taken care of getting and giving what he wants the girls are allowing this veronika loves sex marie is his patron is there anything wrong with any of this is anyone in love really i don t think so though french new wave cinema is prone to pretension and so on it is marvelous simply because of its lack of a need for a plot in order to create emotion ease is perfectly lovely and all anyone in alexandre s position in an urban area can ask for i m looking for a patron anyone interested \n"
     ]
    }
   ],
   "source": [
    "print(X[5])"
   ]
  },
  {
   "cell_type": "code",
   "execution_count": 12,
   "metadata": {},
   "outputs": [
    {
     "data": {
      "text/plain": [
       "\"Of all the reviews I've read, most people have been exceedingly hard on Alexandre. Neither Marie or Veronika ever seemed that they would particularly desperate to keep Alexandre, he being only slightly intelligent though not at all intellectual, as most of us are, however hard it may be for anyone to admit. Alexandre is getting away with life perfectly, being totally taken care of, getting and giving what he wants. the girls are allowing this, veronika loves sex, marie is his patron. is there anything wrong with any of this? is anyone in love? really? i don't think so. Though French New Wave cinema is prone to pretension and so on, it is marvelous simply because of its lack of a need for a plot in order to create emotion. Ease is perfectly lovely and all anyone in Alexandre's position, in an urban area can ask for. I'm looking for a patron, anyone interested?\""
      ]
     },
     "execution_count": 12,
     "metadata": {},
     "output_type": "execute_result"
    }
   ],
   "source": [
    "df.loc[5, 'reviews']"
   ]
  },
  {
   "cell_type": "code",
   "execution_count": null,
   "metadata": {},
   "outputs": [],
   "source": []
  }
 ],
 "metadata": {
  "kernelspec": {
   "display_name": "Python [conda env:.conda-tensorflow]",
   "language": "python",
   "name": "conda-env-.conda-tensorflow-py"
  },
  "language_info": {
   "codemirror_mode": {
    "name": "ipython",
    "version": 3
   },
   "file_extension": ".py",
   "mimetype": "text/x-python",
   "name": "python",
   "nbconvert_exporter": "python",
   "pygments_lexer": "ipython3",
   "version": "3.5.6"
  }
 },
 "nbformat": 4,
 "nbformat_minor": 2
}
